{
 "cells": [
  {
   "cell_type": "code",
   "execution_count": null,
   "metadata": {
    "colab": {
     "base_uri": "https://localhost:8080/"
    },
    "id": "WGUd6kO3IgP3",
    "outputId": "15406e7e-ce03-4562-88e1-1ca92dc889ca"
   },
   "outputs": [],
   "source": [
    "!pip install pathway bokeh --quiet"
   ]
  },
  {
   "cell_type": "code",
   "execution_count": null,
   "metadata": {
    "colab": {
     "base_uri": "https://localhost:8080/",
     "height": 17
    },
    "id": "HkOsW2JUIpNw",
    "outputId": "168df4d0-4098-48db-fafd-d2584c3451f1"
   },
   "outputs": [],
   "source": [
    "import numpy as np\n",
    "import pandas as pd\n",
    "import matplotlib.pyplot as plt\n",
    "import datetime\n",
    "from datetime import datetime\n",
    "import pathway as pw\n",
    "import bokeh.plotting\n",
    "import panel as pn"
   ]
  },
  {
   "cell_type": "code",
   "execution_count": null,
   "metadata": {
    "colab": {
     "base_uri": "https://localhost:8080/",
     "height": 73
    },
    "id": "aFLjyZvuIsTd",
    "outputId": "79b05214-0661-467a-ca3a-cad6a836ef84"
   },
   "outputs": [],
   "source": [
    "from google.colab import files\n",
    "uploaded = files.upload()"
   ]
  },
  {
   "cell_type": "code",
   "execution_count": null,
   "metadata": {
    "colab": {
     "base_uri": "https://localhost:8080/",
     "height": 423
    },
    "id": "usDeTGKrI2g4",
    "outputId": "b6ac7a70-916d-48c4-91e7-b03aa32975e5"
   },
   "outputs": [],
   "source": [
    "df=pd.read_csv('dataset.csv')\n",
    "df"
   ]
  },
  {
   "cell_type": "code",
   "execution_count": null,
   "metadata": {
    "colab": {
     "base_uri": "https://localhost:8080/"
    },
    "id": "jV23weBcI8nv",
    "outputId": "e7da892f-e66f-4d19-ffa8-ff7ee31aa819"
   },
   "outputs": [],
   "source": [
    "lotss=df['SystemCodeNumber'].unique()\n",
    "lots=lotss[0:14]    #making a list of parking lots to get plots one by one\n",
    "lotss"
   ]
  },
  {
   "cell_type": "code",
   "execution_count": null,
   "metadata": {
    "colab": {
     "base_uri": "https://localhost:8080/",
     "height": 443
    },
    "id": "FBiAyeHLT9_U",
    "outputId": "b19fe2d6-4f75-42dc-b291-df8f52795da4"
   },
   "outputs": [],
   "source": [
    "df[\"TrafficCondition_Code\"] = df[\"TrafficConditionNearby\"].astype(\"category\").cat.codes  # low:2,high:1,avg:0\n",
    "df[\"vehicle_Code\"] = df[\"VehicleType\"].astype(\"category\").cat.codes  #car:1,bike:0,truck:3:cycle:2\n",
    "df"
   ]
  },
  {
   "cell_type": "code",
   "execution_count": null,
   "metadata": {
    "colab": {
     "base_uri": "https://localhost:8080/",
     "height": 1000
    },
    "id": "NSyXEIanJDqc",
    "outputId": "e1ce7cf4-822f-44ef-ca2e-3985cd5734f9"
   },
   "outputs": [],
   "source": [
    "plots=[]\n",
    "\n",
    "for lot in lots:\n",
    "  import datetime\n",
    "  df['Timestamp'] = pd.to_datetime(df['LastUpdatedDate'] + ' ' + df['LastUpdatedTime'],   #combining date and time columns and converting it in datetime format\n",
    "                                  format='%d-%m-%Y %H:%M:%S')\n",
    "  df_lot=df[df['SystemCodeNumber']==lot]   #making dataframe for one lot at a time\n",
    "  df_lot = df_lot.sort_values('Timestamp').reset_index(drop=True) #sorting time\n",
    "  class ParkingSchema(pw.Schema):\n",
    "    Capacity:int\n",
    "    Occupancy:int\n",
    "    Timestamp:str\n",
    "    SystemCodeNumber:str\n",
    "    VehicleType:str\n",
    "    TrafficConditionNearby:str\n",
    "    QueueLength:int\n",
    "    IsSpecialDay:int\n",
    "    TrafficCondition_Code:int\n",
    "    vehicle_Code:int\n",
    "  filename = f\"parking_stream_{lot}.csv\"\n",
    "  df_lot[[\"Timestamp\", \"Occupancy\", \"Capacity\", \"SystemCodeNumber\",\"VehicleType\",\"TrafficConditionNearby\",\"QueueLength\",\"IsSpecialDay\",\"TrafficCondition_Code\",\"vehicle_Code\"]].to_csv(filename, index=False)\n",
    "  data = pw.demo.replay_csv(filename, schema=ParkingSchema, input_rate=1000)   # Load the data as a simulated stream using Pathway's replay_csv function\n",
    "  fmt = \"%Y-%m-%d %H:%M:%S\"\n",
    "  data_with_time = data.with_columns(\n",
    "      t = data.Timestamp.dt.strptime(fmt),   #containes full datetime\n",
    "      day = data.Timestamp.dt.strptime(fmt).dt.strftime(\"%Y-%m-%dT00:00:00\"),  #contains only day date\n",
    "      hour = data.Timestamp.dt.strptime(fmt).dt.hour(),   #contains hour\n",
    "      day_of_week = data.Timestamp.dt.strptime(fmt).dt.weekday(),   #assigns monday: 0,...,sunday: 6\n",
    "      occupancy_rate = data.Occupancy / data.Capacity\n",
    "  )\n",
    "  def time_of_day_weight(hour):   #the reason for choosing these categories is explained in the report\n",
    "\n",
    "    if 11 <= hour < 14:\n",
    "        return 1.0    # Midday\n",
    "    elif 14 <= hour < 17:\n",
    "        return 0.7    # Evening\n",
    "    else:\n",
    "        return 0.4    # Morning\n",
    "\n",
    "  def weekday_weight(day_of_week):\n",
    "\n",
    "    if day_of_week < 5:\n",
    "        return 1.0    # Weekday\n",
    "    else:\n",
    "        return 0.7    # Weekend\n",
    "  def queue_time_of_day_weight(hour):\n",
    "\n",
    "    if 12<= hour < 14:\n",
    "        return 1.0\n",
    "    else:\n",
    "        return 0.7\n",
    "  def traffic_time_of_day_weight(hour):\n",
    "\n",
    "    if 12<= hour < 14:\n",
    "        return 1.0\n",
    "\n",
    "    else:\n",
    "        return 0.5\n",
    "\n",
    "  def hour_effect(hour):\n",
    "    a = 1.0\n",
    "    mu = 12\n",
    "    sigma = 3\n",
    "    return a * np.exp(-((hour - mu) ** 2) / (2 * sigma ** 2))\n",
    "  beta=1.0\n",
    "  gamma=1.0\n",
    "  delta=1.0\n",
    "  epsilon=1.0\n",
    "  zeta=1.0\n",
    "  vehicle_weights = {'car': 1.0, 'bike': 0.8, 'truck': 1.3, 'cycle': 0.7}\n",
    "  def demand_fn(occ_rate,tod_weight,wd_weight,adj_queue,adj_traffic,hour_term,veh_term,spec_term):    #demand fn\n",
    "    return (\n",
    "       2.0 * occ_rate * tod_weight * wd_weight+beta * np.log1p(adj_queue)+gamma * np.log1p(adj_traffic) + delta * hour_term + epsilon * veh_term + zeta * spec_term\n",
    "    )\n",
    "  import datetime\n",
    "  data_with_price=(\n",
    "     data_with_time.with_columns(\n",
    "\n",
    "         tod_weight = pw.apply(time_of_day_weight, data_with_time.hour),\n",
    "         wd_weight = pw.apply(weekday_weight, data_with_time.day_of_week),\n",
    "         queue_weight = pw.apply(queue_time_of_day_weight,data_with_time.hour),\n",
    "         traffic_weight = pw.apply(traffic_time_of_day_weight,data_with_time.hour),\n",
    "     )\n",
    "     .with_columns(\n",
    "\n",
    "         adj_queue = pw.apply(lambda q, w: q * w, data_with_time.QueueLength, pw.this.queue_weight),\n",
    "         adj_traffic = pw.apply(lambda t, w: t * w, data_with_time.TrafficCondition_Code, pw.this.traffic_weight),\n",
    "\n",
    "         hour_term = pw.apply(hour_effect,data_with_time.hour),\n",
    "         veh_term = vehicle_weights.get(data_with_time.VehicleType, 1.0),\n",
    "         spec_term = data_with_time.IsSpecialDay\n",
    "     )\n",
    "     .with_columns(\n",
    "      demand=pw.apply(demand_fn,\n",
    "                      data_with_time.occupancy_rate,\n",
    "                      pw.this.tod_weight,\n",
    "                       pw.this.wd_weight,\n",
    "                      pw.this.adj_queue,\n",
    "                      pw.this.adj_traffic,\n",
    "                      pw.this.hour_term,\n",
    "                      pw.this.veh_term,\n",
    "                      pw.this.spec_term\n",
    "      )\n",
    "     )\n",
    "  )\n",
    "  LAMBDA=1.0\n",
    "\n",
    "\n",
    "\n",
    "\n",
    "\n",
    "\n",
    "  def normalize(d):\n",
    "    return (d - 2) / (8 - 2)\n",
    "  def price_fn(demand_norm, LAMBDA=LAMBDA):\n",
    "    return 10 * (1 + LAMBDA * demand_norm)\n",
    " # aligned_data = data_with_price.demand.with_universe_of(data_with_price)\n",
    "  plot_table=(data_with_price.with_columns(\n",
    "     # with_price=data_with_price\n",
    "      demand_norm = pw.apply(normalize,data_with_price.demand)\n",
    "  )\n",
    "  .with_columns(\n",
    "      price = pw.apply(price_fn, pw.this.demand_norm)\n",
    "  )\n",
    "  )\n",
    "  def price_plotter(source):  #writing bokeh plot fn\n",
    "\n",
    "    # Create a Bokeh figure with datetime x-axis\n",
    "    fig = bokeh.plotting.figure(\n",
    "        height=400,\n",
    "        width=800,\n",
    "        title=f\"Pathway: Daily Parking Price of  {lot}\",\n",
    "        x_axis_type=\"datetime\",\n",
    "    )\n",
    "    # Plot a line graph showing how the price evolves over time\n",
    "    fig.line(\"t\", \"price\", source=source, line_width=2, color=\"navy\")\n",
    "\n",
    "    # Overlay red circles at each data point for better visibility\n",
    "    fig.scatter(\"t\", \"price\", source=source, size=6, color=\"red\")\n",
    "\n",
    "    return fig\n",
    "\n",
    "\n",
    "  viz = plot_table.plot(price_plotter, sorting_col=\"t\")\n",
    "  plots.append(pn.Column(f\"Lot: {lot}\", viz.servable()))\n",
    "dashboard = pn.Column(*plots)\n",
    "dashboard.servable()\n",
    "\n",
    "\n",
    "\n"
   ]
  },
  {
   "cell_type": "code",
   "execution_count": null,
   "metadata": {
    "colab": {
     "base_uri": "https://localhost:8080/",
     "height": 163,
     "referenced_widgets": [
      "5baf959e23f74148a1538e569d936e1b",
      "65f13295382e4b5cbcb8a656cf16388d"
     ]
    },
    "id": "N2GM9M7pSh9R",
    "outputId": "1a9877f7-9a28-4ff7-de10-cf3f47423671"
   },
   "outputs": [],
   "source": [
    "pw.run()"
   ]
  },
  {
   "cell_type": "code",
   "execution_count": null,
   "metadata": {
    "id": "xJZoY6iSawdz"
   },
   "outputs": [],
   "source": []
  }
 ],
 "metadata": {
  "colab": {
   "provenance": []
  },
  "kernelspec": {
   "display_name": "Python 3",
   "name": "python3"
  },
  "language_info": {
   "name": "python"
  }
 },
 "nbformat": 4,
 "nbformat_minor": 0
}
