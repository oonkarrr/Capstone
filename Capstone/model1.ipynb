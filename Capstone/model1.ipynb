{
 "cells": [
  {
   "cell_type": "code",
   "execution_count": null,
   "metadata": {
    "colab": {
     "base_uri": "https://localhost:8080/",
     "height": 0
    },
    "id": "h3AISNmQyCdi",
    "outputId": "ca611dbd-083d-43da-da20-2cc2667c7e4a"
   },
   "outputs": [],
   "source": [
    "!pip install pathway bokeh --quiet"
   ]
  },
  {
   "cell_type": "code",
   "execution_count": null,
   "metadata": {
    "colab": {
     "base_uri": "https://localhost:8080/",
     "height": 17
    },
    "id": "vhnBx8RvVIu5",
    "outputId": "914f314d-c831-4f76-ef6f-9e8eb64dfcea"
   },
   "outputs": [],
   "source": [
    "import numpy as np\n",
    "import pandas as pd\n",
    "import matplotlib.pyplot as plt\n",
    "import datetime\n",
    "from datetime import datetime\n",
    "import pathway as pw\n",
    "import bokeh.plotting\n",
    "import panel as pn"
   ]
  },
  {
   "cell_type": "code",
   "execution_count": null,
   "metadata": {
    "colab": {
     "base_uri": "https://localhost:8080/",
     "height": 73
    },
    "id": "qbG_Go0OVLWK",
    "outputId": "4f7d51b8-9966-49a6-d64a-d7800adaf2c1"
   },
   "outputs": [],
   "source": [
    "from google.colab import files\n",
    "uploaded = files.upload()"
   ]
  },
  {
   "cell_type": "code",
   "execution_count": null,
   "metadata": {
    "id": "a-36S4vLVOKP"
   },
   "outputs": [],
   "source": [
    "df=pd.read_csv('dataset.csv')"
   ]
  },
  {
   "cell_type": "code",
   "execution_count": null,
   "metadata": {
    "colab": {
     "base_uri": "https://localhost:8080/",
     "height": 0
    },
    "id": "61mNaGBtVRmg",
    "outputId": "c0819943-9fc4-4c7a-e6ed-a200d0631dd4"
   },
   "outputs": [],
   "source": [
    "#making a list of parking lots to get plots one by one\n",
    "lotss=df['SystemCodeNumber'].unique()\n",
    "lots=lotss[0:14]\n",
    "lots"
   ]
  },
  {
   "cell_type": "code",
   "execution_count": null,
   "metadata": {
    "colab": {
     "base_uri": "https://localhost:8080/",
     "height": 7049
    },
    "id": "yDPSr7xXVglW",
    "outputId": "557e78f1-3248-41ee-9f67-b81293af366a"
   },
   "outputs": [],
   "source": [
    "plots=[]\n",
    "for lot in lots:\n",
    "  df['Timestamp'] = pd.to_datetime(df['LastUpdatedDate'] + ' ' + df['LastUpdatedTime'],  #combining date and time columns and converting it in datetime format\n",
    "                                  format='%d-%m-%Y %H:%M:%S')\n",
    "  df_lot=df[df['SystemCodeNumber']==lot]   #making dataframe for one lot at a time\n",
    "  df_lot = df_lot.sort_values('Timestamp').reset_index(drop=True)  #sorting time\n",
    "\n",
    "  df_lot[[\"Timestamp\", \"Occupancy\", \"Capacity\",\"SystemCodeNumber\"]].to_csv(\"parking_stream.csv\", index=False)  #filtering out the columns that are being used for model 1\n",
    "  class ParkingSchema(pw.Schema):\n",
    "    Capacity:int\n",
    "    Occupancy:int\n",
    "    Timestamp:str\n",
    "    SystemCodeNumber:str\n",
    "\n",
    "  filename = f\"parking_stream_{lot}.csv\"\n",
    "  df_lot[[\"Timestamp\", \"Occupancy\", \"Capacity\", \"SystemCodeNumber\"]].to_csv(filename, index=False)\n",
    "  data = pw.demo.replay_csv(filename, schema=ParkingSchema, input_rate=1000)  # Load the data as a simulated stream using Pathway's replay_csv function\n",
    "  fmt = \"%Y-%m-%d %H:%M:%S\"\n",
    "  data_with_time = data.with_columns(\n",
    "      t = data.Timestamp.dt.strptime(fmt),   #containes full datetime\n",
    "      day = data.Timestamp.dt.strptime(fmt).dt.strftime(\"%Y-%m-%dT00:00:00\"),  #contains only day date\n",
    "      hour = data.Timestamp.dt.strptime(fmt).dt.hour(),  #contains hour\n",
    "      day_of_week = data.Timestamp.dt.strptime(fmt).dt.weekday(),   #assigns monday: 0,...,sunday: 6\n",
    "      occupancy_rate = data.Occupancy / data.Capacity\n",
    "  )\n",
    "  def time_of_day_weight(hour):    #the reason for choosing these categories is explained in the report\n",
    "\n",
    "    if 11 <= hour < 14:\n",
    "        return 1.0    # Midday\n",
    "    elif 14 <= hour < 17:\n",
    "        return 0.7    # Evening\n",
    "    else:\n",
    "        return 0.4    # Morning\n",
    "\n",
    "  def weekday_weight(day_of_week):   #the reason for choosing these categories is explained in the report\n",
    "\n",
    "    if day_of_week < 5:\n",
    "        return 1.0    # Weekday\n",
    "    else:\n",
    "        return 0.7    # Weekend\n",
    "\n",
    "  def pricing_fn(occ_rate, tod_weight, wd_weight):\n",
    "    return 10.0 + 2.0 * occ_rate * tod_weight * wd_weight\n",
    "\n",
    "  import datetime\n",
    "\n",
    "  data_with_price=(\n",
    "     data_with_time.with_columns(\n",
    "         tod_weight = pw.apply(time_of_day_weight, data_with_time.hour),\n",
    "         wd_weight = pw.apply(weekday_weight, data_with_time.day_of_week)\n",
    "\n",
    "\n",
    "\n",
    "        )\n",
    "    .with_columns(\n",
    "        price=pw.apply(\n",
    "        pricing_fn,\n",
    "        data_with_time.occupancy_rate,\n",
    "        pw.this.tod_weight,\n",
    "        pw.this.wd_weight\n",
    "    )\n",
    "\n",
    "    )\n",
    "\n",
    "\n",
    ")\n",
    "\n",
    "  plot_table = data_with_price.select(data_with_price.t, data_with_price.price,data_with_price.SystemCodeNumber)\n",
    "  pn.extension()\n",
    "\n",
    "#writing bokeh plot fn\n",
    "  def price_plotter(source):\n",
    "\n",
    "    # Create a Bokeh figure with datetime x-axis\n",
    "    fig = bokeh.plotting.figure(\n",
    "        height=400,\n",
    "        width=800,\n",
    "        title=f\"Pathway: Daily Parking Price of  {lot}\",\n",
    "        x_axis_type=\"datetime\",\n",
    "    )\n",
    "    # Plot a line graph showing how the price evolves over time\n",
    "    fig.line(\"t\", \"price\", source=source, line_width=2, color=\"navy\")\n",
    "\n",
    "    # Overlay red circles at each data point for better visibility\n",
    "    fig.scatter(\"t\", \"price\", source=source, size=6, color=\"red\")\n",
    "\n",
    "    return fig\n",
    "\n",
    "\n",
    "# - 'sorting_col=\"t\"' ensures the data is plotted in time order\n",
    "  viz = plot_table.plot(price_plotter, sorting_col=\"t\")\n",
    "  plots.append(pn.Column(f\"Lot: {lot}\", viz.servable()))\n",
    "\n",
    "\n",
    "dashboard = pn.Column(*plots)   ## Create a dashboard container that holds all individual plots stored in 'plots'\n",
    "dashboard.servable()   # Make the dashboard servable\n"
   ]
  },
  {
   "cell_type": "code",
   "execution_count": null,
   "metadata": {
    "colab": {
     "base_uri": "https://localhost:8080/",
     "height": 254,
     "referenced_widgets": [
      "d47aa5c58b7a45f3b739151faa154be0",
      "a7a1fb6c63954ab886bfcc9cf2f15f97"
     ]
    },
    "id": "-TiQWMIQWs4d",
    "outputId": "a3ae3ccd-11fb-4eff-ec7c-1f090bc32ba4"
   },
   "outputs": [],
   "source": [
    "pw.run()"
   ]
  },
  {
   "cell_type": "code",
   "execution_count": null,
   "metadata": {
    "id": "OmvwwwbZFXqg"
   },
   "outputs": [],
   "source": []
  }
 ],
 "metadata": {
  "colab": {
   "provenance": []
  },
  "kernelspec": {
   "display_name": "Python 3",
   "name": "python3"
  },
  "language_info": {
   "name": "python"
  }
 },
 "nbformat": 4,
 "nbformat_minor": 0
}
